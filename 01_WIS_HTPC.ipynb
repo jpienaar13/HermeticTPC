{
 "cells": [
  {
   "cell_type": "code",
   "id": "538327c0-1fc1-4566-aa9f-f3ba7a5fd491",
   "metadata": {
    "ExecuteTime": {
     "end_time": "2025-06-10T11:21:02.057103Z",
     "start_time": "2025-06-10T11:21:02.051407Z"
    }
   },
   "source": [
    "import uproot\n",
    "import pandas as pd\n",
    "import numpy as np\n",
    "from tqdm import tqdm\n",
    "from matplotlib.colors import LogNorm"
   ],
   "outputs": [],
   "execution_count": 3
  },
  {
   "cell_type": "code",
   "id": "e472ce43-a2be-4f7e-9e10-075af2a105db",
   "metadata": {
    "ExecuteTime": {
     "end_time": "2025-06-10T11:21:03.352377Z",
     "start_time": "2025-06-10T11:21:03.346907Z"
    }
   },
   "source": [
    "import matplotlib.pyplot as plt"
   ],
   "outputs": [],
   "execution_count": 4
  },
  {
   "cell_type": "code",
   "id": "05c91d67-d6f4-4e6e-a852-b77614b9003f",
   "metadata": {
    "ExecuteTime": {
     "end_time": "2025-06-10T09:24:29.467727Z",
     "start_time": "2025-06-10T09:24:29.357039Z"
    }
   },
   "source": [
    "infile_name = ('build/HTPC_Sapphire_Th232.root')\n",
    "infile = uproot.open(infile_name)\n",
    "event_dir=infile['events']\n",
    "events = infile['events'][\"events\"]"
   ],
   "outputs": [],
   "execution_count": 3
  },
  {
   "cell_type": "code",
   "id": "0ab2b4fb-57d7-4cd7-ba21-df5db63e8a26",
   "metadata": {
    "ExecuteTime": {
     "end_time": "2025-06-10T09:24:29.813684Z",
     "start_time": "2025-06-10T09:24:29.808172Z"
    }
   },
   "source": [
    "keys = infile.keys()\n",
    "\n",
    "print(keys)"
   ],
   "outputs": [
    {
     "name": "stdout",
     "output_type": "stream",
     "text": [
      "['G4VERSION_TAG;1', 'events;1', 'events/nbevents;1', 'events/events;283', 'events/events;282', 'G4RUNTIME;1', 'RANDOM_SEED;1']\n"
     ]
    }
   ],
   "execution_count": 4
  },
  {
   "metadata": {
    "ExecuteTime": {
     "end_time": "2025-06-10T09:24:30.455962Z",
     "start_time": "2025-06-10T09:24:30.383101Z"
    }
   },
   "cell_type": "code",
   "source": [
    "primaries = infile[\"events\"][\"nbevents\"]\n",
    "primaries.value"
   ],
   "id": "bb7f8e82e8101a03",
   "outputs": [
    {
     "data": {
      "text/plain": [
       "250000"
      ]
     },
     "execution_count": 5,
     "metadata": {},
     "output_type": "execute_result"
    }
   ],
   "execution_count": 5
  },
  {
   "metadata": {
    "ExecuteTime": {
     "end_time": "2025-06-10T09:24:40.655789Z",
     "start_time": "2025-06-10T09:24:40.648457Z"
    }
   },
   "cell_type": "code",
   "source": [
    "def read_root_dir_minimal(fn, treename='events', output_type='df', istart=0, istop=1000):\n",
    "    '''\n",
    "    Output types can be 'df' for pandas dataframe or 'array' for numpy array.\n",
    "    '''\n",
    "    with uproot.open(fn) as f:\n",
    "        tree = f[f\"{treename}\"][f\"{treename}\"]\n",
    "        branches = ['nsteps', 'xp', 'yp', 'zp', 'PreStepEnergy', 'etot', 'parentid', 'parenttype', 'xp_pri', 'yp_pri', 'zp_pri', 'ed', 'time']\n",
    "        data = tree.arrays(branches, filter_name='nsteps', library='np', entry_start = istart, entry_stop=istop)\n",
    "        \n",
    "        # Apply selection: NAct > 0\n",
    "        mask = data['nsteps'] >= 0\n",
    "        filtered_data = {key: value[mask] for key, value in data.items()}\n",
    "        \n",
    "        if output_type == 'df':\n",
    "            return pd.DataFrame(filtered_data)\n",
    "        elif output_type == 'array':\n",
    "            return filtered_data\n",
    "        else:\n",
    "            print(f'Warning: output type you specified is {output_type}, not understood, returning numpy array...')\n",
    "            return filtered_data"
   ],
   "id": "41244e3422c4c4ba",
   "outputs": [],
   "execution_count": 6
  },
  {
   "metadata": {
    "ExecuteTime": {
     "end_time": "2025-06-10T09:24:41.330742Z",
     "start_time": "2025-06-10T09:24:41.324235Z"
    }
   },
   "cell_type": "code",
   "source": [
    "row_length = ('nsteps')\n",
    "scalar_fields = ['etot', 'xp_pri', 'yp_pri', 'zp_pri']\n",
    "vector_fields = ['xp', 'yp', 'zp', 'PreStepEnergy', 'parentid', 'parenttype', 'ed', 'time']\n",
    "\n",
    "def flatten_mc_tree(df, row_length=row_length, vector_fields=vector_fields, scalar_fields=scalar_fields):\n",
    "    flattened_data = []\n",
    "    for i, row in df.iterrows():\n",
    "        # Check lengths just in case\n",
    "        assert row[row_length] == len(row[vector_fields[0]])\n",
    "\n",
    "        for j in range(row[row_length]):\n",
    "            new_row = {}\n",
    "            new_row['event'] = i\n",
    "            new_row['particle'] = j\n",
    "\n",
    "            for key in scalar_fields:\n",
    "                new_row[key] = row[key]\n",
    "\n",
    "            for key in vector_fields:\n",
    "                new_row[key] = row[key][j]\n",
    "\n",
    "            flattened_data.append(new_row)\n",
    "   \n",
    "    df_flattend = pd.DataFrame(flattened_data)\n",
    "    df_flattend.set_index(['event', 'particle',])  # MultiIndex\n",
    "\n",
    "    return df_flattend"
   ],
   "id": "9f5cd95a6946aa4b",
   "outputs": [],
   "execution_count": 7
  },
  {
   "metadata": {
    "ExecuteTime": {
     "end_time": "2025-06-10T09:24:44.498423Z",
     "start_time": "2025-06-10T09:24:44.436823Z"
    }
   },
   "cell_type": "code",
   "source": [
    "def process_chunk(df):\n",
    "    xpos = []\n",
    "    ypos = []\n",
    "    zpos = []\n",
    "    multis = []\n",
    "    escatter=[]\n",
    "    \n",
    "    events = np.unique(df['event'])\n",
    "    for event in events[:]:\n",
    "        mask = ((df['event']==event) & (df['ed']>0))\n",
    "        df_event = df[mask]\n",
    "        xpos.append(np.average(df_event['xp'], weights = df_event['ed']))\n",
    "        ypos.append(np.average(df_event['yp'], weights = df_event['ed']))\n",
    "        zpos.append(np.average(df_event['zp'], weights = df_event['ed']))\n",
    "        escatter.append(np.sum(df_event['ed']))\n",
    "        multis.append(np.max(df_event['zp'])-np.min(df_event['zp'])>10)\n",
    "        \n",
    "    df_scatters = pd.DataFrame({'xpos':xpos,\n",
    "                                'ypos':ypos,\n",
    "                                'zpos':zpos,\n",
    "                                'escatter':escatter,\n",
    "                                'multis':multis})\n",
    "    return df_scatters"
   ],
   "id": "7cc41b81b4622520",
   "outputs": [],
   "execution_count": 8
  },
  {
   "metadata": {
    "ExecuteTime": {
     "end_time": "2025-06-10T09:24:48.676832Z",
     "start_time": "2025-06-10T09:24:48.668939Z"
    }
   },
   "cell_type": "code",
   "source": [
    "def df_process_file(infile_name, treename='events', chunksize=1000, bstop=False, istop=-1):\n",
    "    infile = uproot.open(infile_name)\n",
    "    tree = infile[f\"{treename}\"][f\"{treename}\"]\n",
    "    primaries = tree.arrays('etot')\n",
    "    primaries = len(primaries)\n",
    "    df_scatters =[]\n",
    "    print(np.ceil(primaries/chunksize))\n",
    "    for i_chunk in tqdm(range(int(np.ceil(primaries/chunksize)))):\n",
    "        if bstop and (chunksize*i_chunk)>istop:\n",
    "            break\n",
    "        df_raw = read_root_dir_minimal(infile_name, treename, istart=chunksize*i_chunk, istop=chunksize*(i_chunk+1))\n",
    "        df_flat = flatten_mc_tree(df_raw)\n",
    "        df_flat = df_flat[df_flat['etot']>0]\n",
    "        df_scatters.append(process_chunk(df_flat))\n",
    "    df_scatters = pd.concat(df_scatters)\n",
    "    return df_scatters"
   ],
   "id": "50e7fc22931a32b4",
   "outputs": [],
   "execution_count": 9
  },
  {
   "metadata": {
    "ExecuteTime": {
     "end_time": "2025-06-10T09:42:54.560123Z",
     "start_time": "2025-06-10T09:26:09.490564Z"
    }
   },
   "cell_type": "code",
   "source": "test_df = df_process_file(infile_name, treename='events', chunksize =100, bstop=True, istop =10000)",
   "id": "f90c1704e399e928",
   "outputs": [
    {
     "name": "stdout",
     "output_type": "stream",
     "text": [
      "2491.0\n"
     ]
    },
    {
     "name": "stderr",
     "output_type": "stream",
     "text": [
      "  4%|▍         | 101/2491 [16:41<6:34:48,  9.91s/it]\n"
     ]
    }
   ],
   "execution_count": 12
  },
  {
   "metadata": {
    "ExecuteTime": {
     "end_time": "2025-06-10T10:29:18.061451Z",
     "start_time": "2025-06-10T10:29:18.061451Z"
    }
   },
   "cell_type": "code",
   "source": "test_df2 = df_process_file(infile_name, treename='events', chunksize =100, bstop=True, istop =50000)",
   "id": "fc3ee12b6fd2b1e0",
   "outputs": [],
   "execution_count": null
  },
  {
   "metadata": {
    "ExecuteTime": {
     "end_time": "2025-06-10T10:29:19.951869Z",
     "start_time": "2025-06-10T10:29:19.603402Z"
    }
   },
   "cell_type": "code",
   "source": [
    "plt.hist2d(test_df['xpos'], test_df['ypos'],  bins=[100, 100], norm=LogNorm())\n",
    "plt.show()"
   ],
   "id": "7802fe6e47af82d6",
   "outputs": [
    {
     "data": {
      "text/plain": [
       "<Figure size 640x480 with 1 Axes>"
      ],
      "image/png": "[encoded data removed]"
     },
     "metadata": {},
     "output_type": "display_data"
    }
   ],
   "execution_count": 14
  },
  {
   "metadata": {
    "ExecuteTime": {
     "end_time": "2025-06-10T10:29:22.601822Z",
     "start_time": "2025-06-10T10:29:22.437638Z"
    }
   },
   "cell_type": "code",
   "source": [
    "plt.hist2d(np.sqrt(test_df['xpos']**2+test_df['ypos']**2), test_df['zpos'],  bins=[100, 100], norm=LogNorm())\n",
    "plt.show()"
   ],
   "id": "2f34077f2f129cc3",
   "outputs": [
    {
     "data": {
      "text/plain": [
       "<Figure size 640x480 with 1 Axes>"
      ],
      "image/png": "[encoded data removed]"
     },
     "metadata": {},
     "output_type": "display_data"
    }
   ],
   "execution_count": 15
  },
  {
   "metadata": {
    "ExecuteTime": {
     "end_time": "2025-06-10T10:33:00.107386Z",
     "start_time": "2025-06-10T10:32:59.817340Z"
    }
   },
   "cell_type": "code",
   "source": [
    "mask = (test_df['multis']==True)\n",
    "plt.hist(test_df[mask]['escatter'], bins =np.linspace(0, 3000, 101), label = 'Multiscatter')\n",
    "mask = (test_df['multis']==False)\n",
    "plt.hist(test_df[mask]['escatter'], bins =np.linspace(0, 3000, 101), label = 'Singlescatter')\n",
    "plt.yscale('log')\n",
    "plt.show()"
   ],
   "id": "55cba2f76e1879ab",
   "outputs": [
    {
     "data": {
      "text/plain": [
       "<Figure size 640x480 with 1 Axes>"
      ],
      "image/png": "[encoded data removed]"
     },
     "metadata": {},
     "output_type": "display_data"
    }
   ],
   "execution_count": 22
  },
  {
   "metadata": {},
   "cell_type": "markdown",
   "source": "### Processed Background Files",
   "id": "42d493924c5fe136"
  },
  {
   "metadata": {
    "ExecuteTime": {
     "end_time": "2025-06-10T14:14:03.941245Z",
     "start_time": "2025-06-10T14:14:03.785243Z"
    }
   },
   "cell_type": "code",
   "source": [
    "test_df = np.load('analysis/test.npy', allow_pickle=True)\n",
    "test_df = pd.DataFrame(test_df, columns=['xpos', 'ypos', 'zpos', 'escatter', 'multis'])"
   ],
   "id": "e68a94d475487906",
   "outputs": [],
   "execution_count": 69
  },
  {
   "metadata": {
    "ExecuteTime": {
     "end_time": "2025-06-10T14:14:07.987682Z",
     "start_time": "2025-06-10T14:14:06.879943Z"
    }
   },
   "cell_type": "code",
   "source": [
    "mask = (test_df['multis']==True)\n",
    "plt.hist(test_df[mask]['escatter'], bins =np.linspace(0, 3000, 101), label = 'Multiscatter')\n",
    "mask = (test_df['multis']==False)\n",
    "plt.hist(test_df[mask]['escatter'], bins =np.linspace(0, 3000, 101), label = 'Singlescatter')\n",
    "plt.yscale('log')\n",
    "plt.show()"
   ],
   "id": "e38086f5bdffb495",
   "outputs": [
    {
     "data": {
      "text/plain": [
       "<Figure size 640x480 with 1 Axes>"
      ],
      "image/png": "[encoded data removed]"
     },
     "metadata": {},
     "output_type": "display_data"
    }
   ],
   "execution_count": 70
  },
  {
   "metadata": {
    "ExecuteTime": {
     "end_time": "2025-06-10T14:14:59.724980Z",
     "start_time": "2025-06-10T14:14:59.719977Z"
    }
   },
   "cell_type": "code",
   "source": [
    "def energy_res(energy, a_res, b_res):\n",
    "    resolution = a_res*np.sqrt(energy.values)+b_res*10**-3*energy\n",
    "    e_smeared = np.random.normal(energy,resolution)\n",
    "    return e_smeared"
   ],
   "id": "be723c2e16f8ba62",
   "outputs": [],
   "execution_count": 72
  },
  {
   "metadata": {
    "ExecuteTime": {
     "end_time": "2025-06-10T14:15:01.029371Z",
     "start_time": "2025-06-10T14:15:00.400970Z"
    }
   },
   "cell_type": "code",
   "source": [
    "plt.hist(test_df['escatter'], bins =np.linspace(0, 3000, 101), label = 'True')\n",
    "plt.hist(energy_res(test_df['escatter'].astype(float), 0.317, 1.7), bins =np.linspace(0, 3000, 101), label = 'Smeared')\n",
    "plt.legend()\n",
    "plt.yscale('log')\n",
    "plt.show()"
   ],
   "id": "da30ac3cc8b1b5c3",
   "outputs": [
    {
     "data": {
      "text/plain": [
       "<Figure size 640x480 with 1 Axes>"
      ],
      "image/png": "[encoded data removed]"
     },
     "metadata": {},
     "output_type": "display_data"
    }
   ],
   "execution_count": 73
  },
  {
   "metadata": {},
   "cell_type": "code",
   "outputs": [],
   "execution_count": null,
   "source": "",
   "id": "faa792420c0f68e1"
  }
 ],
 "metadata": {
  "kernelspec": {
   "display_name": "Python 3 (ipykernel)",
   "language": "python",
   "name": "python3"
  },
  "language_info": {
   "codemirror_mode": {
    "name": "ipython",
    "version": 3
   },
   "file_extension": ".py",
   "mimetype": "text/x-python",
   "name": "python",
   "nbconvert_exporter": "python",
   "pygments_lexer": "ipython3",
   "version": "3.9.19"
  }
 },
 "nbformat": 4,
 "nbformat_minor": 5
}
